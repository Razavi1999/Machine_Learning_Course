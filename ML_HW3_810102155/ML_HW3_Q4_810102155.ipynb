{
  "nbformat": 4,
  "nbformat_minor": 0,
  "metadata": {
    "colab": {
      "provenance": []
    },
    "kernelspec": {
      "name": "python3",
      "display_name": "Python 3"
    },
    "language_info": {
      "name": "python"
    }
  },
  "cells": [
    {
      "cell_type": "markdown",
      "source": [
        "# Importing Libraries"
      ],
      "metadata": {
        "id": "NQlcdhFiSiVc"
      }
    },
    {
      "cell_type": "code",
      "execution_count": null,
      "metadata": {
        "id": "41ByKBEm2FFE"
      },
      "outputs": [],
      "source": [
        "from sklearn.base import BaseEstimator, ClassifierMixin, clone\n",
        "from sklearn.datasets import load_iris\n",
        "from sklearn.model_selection import train_test_split\n",
        "from sklearn.metrics import accuracy_score\n",
        "from sklearn.tree import DecisionTreeClassifier\n",
        "from sklearn.preprocessing import LabelEncoder\n",
        "import numpy as np"
      ]
    },
    {
      "cell_type": "markdown",
      "source": [
        "# SimpleMultiClassBoosting"
      ],
      "metadata": {
        "id": "aIvB0uTKSlqE"
      }
    },
    {
      "cell_type": "code",
      "source": [
        "class SimpleMultiClassBoosting(BaseEstimator, ClassifierMixin):\n",
        "    def __init__(self, base_estimator=None, n_estimators=50):\n",
        "        self.base_estimator = base_estimator if base_estimator is not None else DecisionTreeClassifier(max_depth=1)\n",
        "        self.n_estimators = n_estimators\n",
        "        self.learners = []\n",
        "        self.learner_weights = []\n",
        "        self.label_encoder = LabelEncoder()\n",
        "\n",
        "    def fit(self, X, y):\n",
        "        y_encoded = self.label_encoder.fit_transform(y)\n",
        "        n_classes = len(self.label_encoder.classes_)\n",
        "\n",
        "        sample_weights = np.full(len(y_encoded), fill_value=1 / len(y_encoded))\n",
        "\n",
        "        for _ in range(self.n_estimators):\n",
        "              learner = clone(self.base_estimator)\n",
        "              learner.fit(X, y_encoded, sample_weight=sample_weights)\n",
        "              learner_preds = learner.predict(X)\n",
        "              incorrect = learner_preds != y_encoded\n",
        "              learner_error = np.dot(sample_weights, incorrect) / np.sum(sample_weights)\n",
        "\n",
        "\n",
        "              learner_weight = np.log((1 - learner_error) / max(learner_error, 1e-10)) + np.log(n_classes - 1)\n",
        "              self.learners.append(learner)\n",
        "              self.learner_weights.append(learner_weight)\n",
        "\n",
        "\n",
        "              sample_weights[incorrect] *= np.exp(learner_weight)\n",
        "              sample_weights /= np.sum(sample_weights)\n",
        "\n",
        "    def predict(self, X):\n",
        "        class_preds = np.array([learner.predict(X) for learner in self.learners]).T\n",
        "        weighted_votes = np.zeros((X.shape[0], len(self.label_encoder.classes_)))\n",
        "\n",
        "        for i, learner_weight in enumerate(self.learner_weights):\n",
        "            np.add.at(weighted_votes, (np.arange(X.shape[0]), class_preds[:, i]), learner_weight)\n",
        "\n",
        "\n",
        "        final_preds = np.argmax(weighted_votes, axis=1)\n",
        "        return self.label_encoder.inverse_transform(final_preds)\n"
      ],
      "metadata": {
        "id": "80eGYDq72Icw"
      },
      "execution_count": null,
      "outputs": []
    },
    {
      "cell_type": "markdown",
      "source": [
        "# Evaluation"
      ],
      "metadata": {
        "id": "bTS2zsM-Srpu"
      }
    },
    {
      "cell_type": "code",
      "source": [
        "import pandas as pd\n",
        "from sklearn.datasets import load_iris\n",
        "\n",
        "iris = load_iris()\n",
        "\n",
        "df = pd.DataFrame(data=iris.data, columns=iris.feature_names)\n",
        "\n",
        "\n",
        "df['target'] = iris.target\n",
        "\n",
        "\n",
        "print(df.count())"
      ],
      "metadata": {
        "colab": {
          "base_uri": "https://localhost:8080/"
        },
        "id": "9XzwTjIyPrxQ",
        "outputId": "6bd1a976-5114-4644-b036-4b2a8b030ad1"
      },
      "execution_count": null,
      "outputs": [
        {
          "output_type": "stream",
          "name": "stdout",
          "text": [
            "sepal length (cm)    150\n",
            "sepal width (cm)     150\n",
            "petal length (cm)    150\n",
            "petal width (cm)     150\n",
            "target               150\n",
            "dtype: int64\n"
          ]
        }
      ]
    },
    {
      "cell_type": "code",
      "source": [
        "import pandas as pd\n",
        "from sklearn.model_selection import train_test_split\n",
        "from sklearn.metrics import accuracy_score, confusion_matrix, classification_report\n",
        "\n",
        "\n",
        "X = df.iloc[:, :-1]\n",
        "y = df.iloc[:, -1]\n",
        "\n",
        "X_train, X_test, y_train, y_test = train_test_split(X, y, test_size=0.3, random_state=42)\n",
        "\n",
        "\n",
        "model = SimpleMultiClassBoosting(n_estimators=10)\n",
        "\n",
        "model.fit(X_train, y_train)\n",
        "\n",
        "\n",
        "# print(f'y_train shape : {y_train.shape}') : (105 , )\n",
        "\n",
        "# print(f'X_test shape : {X_test.shape}') : (45 , 4)\n",
        "\n",
        "\n",
        "y_pred = model.predict(X_test)\n",
        "\n",
        "\n",
        "accuracy = accuracy_score(y_test, y_pred)\n",
        "conf_mat = confusion_matrix(y_test, y_pred)\n",
        "class_report = classification_report(y_test, y_pred)\n",
        "\n",
        "print(\"Accuracy:\", accuracy)\n",
        "print(\"Confusion Matrix:\\n\", conf_mat)\n",
        "print(\"Classification Report:\\n\", class_report)"
      ],
      "metadata": {
        "colab": {
          "base_uri": "https://localhost:8080/"
        },
        "id": "20RVZkFXQOrF",
        "outputId": "9aed5894-5c14-480e-9dcd-19f4049c5d38"
      },
      "execution_count": null,
      "outputs": [
        {
          "output_type": "stream",
          "name": "stdout",
          "text": [
            "X_train shape : (105, 4)\n",
            "y_train shape : (105,)\n",
            "X_test shape : (45, 4)\n",
            "Accuracy: 1.0\n",
            "Confusion Matrix:\n",
            " [[19  0  0]\n",
            " [ 0 13  0]\n",
            " [ 0  0 13]]\n",
            "Classification Report:\n",
            "               precision    recall  f1-score   support\n",
            "\n",
            "           0       1.00      1.00      1.00        19\n",
            "           1       1.00      1.00      1.00        13\n",
            "           2       1.00      1.00      1.00        13\n",
            "\n",
            "    accuracy                           1.00        45\n",
            "   macro avg       1.00      1.00      1.00        45\n",
            "weighted avg       1.00      1.00      1.00        45\n",
            "\n"
          ]
        }
      ]
    }
  ]
}